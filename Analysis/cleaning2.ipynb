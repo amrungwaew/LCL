{
 "cells": [
  {
   "cell_type": "code",
   "execution_count": 1,
   "id": "9500f5da",
   "metadata": {},
   "outputs": [],
   "source": [
    "import numpy as np\n",
    "import polars as pl\n",
    "\n",
    "from pathlib import Path\n"
   ]
  },
  {
   "cell_type": "code",
   "execution_count": 2,
   "id": "bf6cb259",
   "metadata": {},
   "outputs": [],
   "source": [
    "cars_df = pl.read_csv(\n",
    "    \"https://raw.github.com/arteagac/xlogit/master/examples/data/car100_long.csv\"\n",
    ")"
   ]
  },
  {
   "cell_type": "code",
   "execution_count": 3,
   "id": "9e7c7bee",
   "metadata": {},
   "outputs": [],
   "source": [
    "\n",
    "cars_df2 = cars_df.with_columns(\n",
    "    neg_price=-pl.col(\"price\"), neg_operating_cost=-pl.col(\"opcost\")\n",
    ").drop(\"price\", \"opcost\")"
   ]
  },
  {
   "cell_type": "code",
   "execution_count": 4,
   "id": "9785dd0e",
   "metadata": {},
   "outputs": [],
   "source": [
    "cars_df2.write_parquet(\"cars.parquet\")"
   ]
  },
  {
   "cell_type": "code",
   "execution_count": 5,
   "id": "f1995feb",
   "metadata": {},
   "outputs": [
    {
     "name": "stdout",
     "output_type": "stream",
     "text": [
      "Rows: 4452\n",
      "Columns: 12\n",
      "$ person_id          <i64> 1, 1, 1, 1, 1, 1, 1, 1, 1, 1\n",
      "$ choice_id          <i64> 1, 1, 1, 2, 2, 2, 3, 3, 3, 4\n",
      "$ alt                <i64> 1, 2, 3, 1, 2, 3, 1, 2, 3, 1\n",
      "$ choice             <i64> 0, 1, 0, 1, 0, 0, 1, 0, 0, 0\n",
      "$ range              <f64> 0.0, 1.3, 1.2, 1.3, 0.0, 1.8, 1.2, 0.0, 0.0, 0.0\n",
      "$ ev                 <i64> 0, 1, 1, 1, 0, 1, 1, 0, 0, 0\n",
      "$ gas                <i64> 0, 0, 0, 0, 0, 0, 0, 0, 1, 1\n",
      "$ hybrid             <i64> 1, 0, 0, 0, 1, 0, 0, 1, 0, 0\n",
      "$ hiperf             <i64> 0, 1, 0, 1, 0, 1, 0, 1, 0, 0\n",
      "$ medhiperf          <i64> 0, 1, 1, 1, 1, 1, 0, 1, 0, 1\n",
      "$ neg_price          <i64> -46763, -57209, -87960, -33768, -90336, -57099, -45534, -21825, -34031, -8639\n",
      "$ neg_operating_cost <f64> -47.43, -27.43, -32.41, -4.89, -30.19, -27.16, -10.72, -15.53, -60.62, -22.16\n",
      "\n"
     ]
    }
   ],
   "source": [
    "\n",
    "cars_df2.glimpse()"
   ]
  },
  {
   "cell_type": "markdown",
   "id": "1a73bc62",
   "metadata": {},
   "source": [
    "// import\n"
   ]
  },
  {
   "cell_type": "code",
   "execution_count": 6,
   "id": "3ce067ad",
   "metadata": {},
   "outputs": [],
   "source": [
    "from lcl.latent_class_conditional_logit import LatentClassConditionalLogit"
   ]
  },
  {
   "cell_type": "code",
   "execution_count": 7,
   "id": "d900e8ac",
   "metadata": {},
   "outputs": [],
   "source": [
    "\n",
    "varnames = [\n",
    "    \"hiperf\",\n",
    "    \"medhiperf\",\n",
    "    \"neg_price\",\n",
    "    \"neg_operating_cost\",\n",
    "    \"range\",\n",
    "    \"ev\",\n",
    "    \"hybrid\",\n",
    "]\n",
    "model = LatentClassConditionalLogit()\n"
   ]
  },
  {
   "cell_type": "code",
   "execution_count": 8,
   "id": "6e0ad9be",
   "metadata": {},
   "outputs": [
    {
     "name": "stdout",
     "output_type": "stream",
     "text": [
      "====\n",
      "`weighted_kernels`\n",
      "Frac. finite: 1.0\n",
      "Frac. nonzero: 1.0\n",
      "Mean: 1.3095465192236588e-06\n",
      "====\n",
      "`conditional_class_probs`\n",
      "Frac. finite: 1.0\n",
      "Frac. nonzero: 1.0\n",
      "Mean: 0.3333333730697632\n",
      "EM recursion: 0\n",
      "====\n",
      "`weighted_kernels`\n",
      "Frac. finite: 1.0\n",
      "Frac. nonzero: 1.0\n",
      "Mean: 1.4637919321103254e-06\n",
      "====\n",
      "`conditional_class_probs`\n",
      "Frac. finite: 1.0\n",
      "Frac. nonzero: 1.0\n",
      "Mean: 0.3333333432674408\n",
      "Shares:\n",
      "[0.2668514  0.4595169  0.27363166]\n",
      "EM recursion: 1\n",
      "====\n",
      "`weighted_kernels`\n",
      "Frac. finite: 1.0\n",
      "Frac. nonzero: 1.0\n",
      "Mean: 4.245759100740543e-06\n",
      "====\n",
      "`conditional_class_probs`\n",
      "Frac. finite: 1.0\n",
      "Frac. nonzero: 1.0\n",
      "Mean: 0.3333333432674408\n",
      "Shares:\n",
      "[0.24537235 0.45783862 0.296789  ]\n",
      "EM recursion: 2\n",
      "====\n",
      "`weighted_kernels`\n",
      "Frac. finite: 1.0\n",
      "Frac. nonzero: 1.0\n",
      "Mean: 7.4643294283305295e-06\n",
      "====\n",
      "`conditional_class_probs`\n",
      "Frac. finite: 1.0\n",
      "Frac. nonzero: 1.0\n",
      "Mean: 0.3333333432674408\n",
      "Shares:\n",
      "[0.24858995 0.43885624 0.3125539 ]\n",
      "EM recursion: 3\n",
      "====\n",
      "`weighted_kernels`\n",
      "Frac. finite: 1.0\n",
      "Frac. nonzero: 1.0\n",
      "Mean: 9.656007023295388e-06\n",
      "====\n",
      "`conditional_class_probs`\n",
      "Frac. finite: 1.0\n",
      "Frac. nonzero: 1.0\n",
      "Mean: 0.3333333730697632\n",
      "Shares:\n",
      "[0.2597977 0.4168909 0.3233114]\n",
      "EM recursion: 4\n",
      "====\n",
      "`weighted_kernels`\n",
      "Frac. finite: 1.0\n",
      "Frac. nonzero: 1.0\n",
      "Mean: 1.0765698789327871e-05\n",
      "====\n",
      "`conditional_class_probs`\n",
      "Frac. finite: 1.0\n",
      "Frac. nonzero: 1.0\n",
      "Mean: 0.3333333432674408\n",
      "Shares:\n",
      "[0.26989296 0.39891586 0.3311912 ]\n",
      "====\n",
      "MEANS AND STD DEVS\n",
      "\n",
      "hiperf : 7.77e-11 (7.91e-11)\n",
      "medhiperf : -9.09e-12 (4.95e-11)\n",
      "neg_price : 4.34e-05 (3.83e-05)\n",
      "neg_operating_cost : -2.04e-08 (1.72e-08)\n",
      "range : -6.53e-10 (4.72e-10)\n",
      "ev : -5.1e-10 (4e-10)\n",
      "hybrid : -5.99e-10 (6.64e-10)\n",
      "====\n",
      "VARIANCE/COVARIANCE MATRIX\n",
      "\n",
      "[[ 6.8641022e-21  1.5170541e-21  3.1917214e-15 -1.3292473e-18\n",
      "  -3.7805760e-20 -3.2675628e-20 -5.3565955e-20]\n",
      " [ 1.5170541e-21  2.1890953e-21  2.3586691e-16  3.4965170e-20\n",
      "  -5.9490871e-22 -1.4413193e-21 -1.3885352e-21]\n",
      " [ 3.1917212e-15  2.3586691e-16  1.6030395e-09 -7.0135011e-13\n",
      "  -1.9544869e-14 -1.6657857e-14 -2.7554395e-14]\n",
      " [-1.3292473e-18  3.4965212e-20 -7.0135006e-13  3.1570969e-16\n",
      "   8.6973996e-18  7.3527729e-18  1.2226351e-17]\n",
      " [-3.7805760e-20 -5.9490800e-22 -1.9544869e-14  8.6973988e-18\n",
      "   2.4071328e-19  2.0416789e-19  3.3877593e-19]\n",
      " [-3.2675628e-20 -1.4413193e-21 -1.6657857e-14  7.3527729e-18\n",
      "   2.0416789e-19  1.7357196e-19  2.8757859e-19]\n",
      " [-5.3565955e-20 -1.3885344e-21 -2.7554395e-14  1.2226350e-17\n",
      "   3.3877596e-19  2.8757859e-19  4.7692665e-19]]\n",
      "====\n",
      "RAW RESULTS\n",
      "\n",
      "Betas:\n",
      "[[ 6.5779902e-11  1.8008151e-10 -1.2651312e-11]\n",
      " [ 5.2709934e-11 -1.1399799e-11 -6.8570150e-11]\n",
      " [ 2.1548845e-05  9.7334327e-05  1.1407379e-05]\n",
      " [-6.6893353e-09 -4.4672870e-08 -9.9342499e-09]\n",
      " [-3.1764905e-10 -1.3213336e-09 -3.2082081e-10]\n",
      " [-2.5227734e-10 -1.0750676e-09 -2.0303263e-10]\n",
      " [-1.4253446e-10 -1.5383232e-09 -1.1643438e-10]]\n",
      "Thetas:\n",
      "None\n",
      "Shares\n",
      "[0.26989296 0.39891586 0.3311912 ]\n"
     ]
    },
    {
     "name": "stderr",
     "output_type": "stream",
     "text": [
      "/Users/annajeffries/Desktop/LCL/Analysis/lcl/_choice_model.py:146: UserWarning: The current model has not been yet estimated\n",
      "  warnings.warn(warning_str, UserWarning)\n"
     ]
    },
    {
     "data": {
      "text/plain": [
       "['self.coeff_: None',\n",
       " \"self.coeff_names: ['hiperf' 'medhiperf' 'neg_price' 'neg_operating_cost' 'range' 'ev'\\n 'hybrid']\",\n",
       " 'The current model has not been yet estimated']"
      ]
     },
     "execution_count": 8,
     "metadata": {},
     "output_type": "execute_result"
    }
   ],
   "source": [
    "model.fit(\n",
    "    X=cars_df2[varnames].cast(pl.Float64).to_jax(),\n",
    "    y=cars_df2[\"choice\"].cast(pl.Boolean).to_jax(),\n",
    "    varnames=varnames,\n",
    "    alts=cars_df2[\"alt\"].to_jax(),\n",
    "    ids=cars_df2[\"choice_id\"].to_jax(),\n",
    "    panels=cars_df2[\"person_id\"].to_jax(),\n",
    "    num_classes=3\n",
    ")\n",
    "model.summary()"
   ]
  },
  {
   "cell_type": "code",
   "execution_count": null,
   "id": "f491eb17",
   "metadata": {},
   "outputs": [],
   "source": []
  }
 ],
 "metadata": {
  "kernelspec": {
   "display_name": "base",
   "language": "python",
   "name": "python3"
  },
  "language_info": {
   "codemirror_mode": {
    "name": "ipython",
    "version": 3
   },
   "file_extension": ".py",
   "mimetype": "text/x-python",
   "name": "python",
   "nbconvert_exporter": "python",
   "pygments_lexer": "ipython3",
   "version": "3.12.11"
  }
 },
 "nbformat": 4,
 "nbformat_minor": 5
}
