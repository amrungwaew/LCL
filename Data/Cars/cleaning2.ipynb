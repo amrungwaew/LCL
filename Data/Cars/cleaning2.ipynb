{
 "cells": [
  {
   "cell_type": "code",
   "execution_count": 1,
   "id": "9500f5da",
   "metadata": {},
   "outputs": [],
   "source": [
    "import numpy as np\n",
    "import polars as pl\n",
    "\n",
    "from pathlib import Path\n"
   ]
  },
  {
   "cell_type": "code",
   "execution_count": 2,
   "id": "bf6cb259",
   "metadata": {},
   "outputs": [],
   "source": [
    "cars_df = pl.read_csv(\n",
    "    \"https://raw.github.com/arteagac/xlogit/master/examples/data/car100_long.csv\"\n",
    ")"
   ]
  },
  {
   "cell_type": "code",
   "execution_count": 3,
   "id": "9e7c7bee",
   "metadata": {},
   "outputs": [],
   "source": [
    "\n",
    "cars_df2 = cars_df.with_columns(\n",
    "    neg_price=-pl.col(\"price\"), neg_operating_cost=-pl.col(\"opcost\")\n",
    ").drop(\"price\", \"opcost\")"
   ]
  },
  {
   "cell_type": "code",
   "execution_count": 6,
   "id": "9785dd0e",
   "metadata": {},
   "outputs": [],
   "source": [
    "cars_df2.write_parquet(\"cars.parquet\")"
   ]
  },
  {
   "cell_type": "code",
   "execution_count": 7,
   "id": "f1995feb",
   "metadata": {},
   "outputs": [
    {
     "name": "stdout",
     "output_type": "stream",
     "text": [
      "Rows: 4452\n",
      "Columns: 12\n",
      "$ person_id          <i64> 1, 1, 1, 1, 1, 1, 1, 1, 1, 1\n",
      "$ choice_id          <i64> 1, 1, 1, 2, 2, 2, 3, 3, 3, 4\n",
      "$ alt                <i64> 1, 2, 3, 1, 2, 3, 1, 2, 3, 1\n",
      "$ choice             <i64> 0, 1, 0, 1, 0, 0, 1, 0, 0, 0\n",
      "$ range              <f64> 0.0, 1.3, 1.2, 1.3, 0.0, 1.8, 1.2, 0.0, 0.0, 0.0\n",
      "$ ev                 <i64> 0, 1, 1, 1, 0, 1, 1, 0, 0, 0\n",
      "$ gas                <i64> 0, 0, 0, 0, 0, 0, 0, 0, 1, 1\n",
      "$ hybrid             <i64> 1, 0, 0, 0, 1, 0, 0, 1, 0, 0\n",
      "$ hiperf             <i64> 0, 1, 0, 1, 0, 1, 0, 1, 0, 0\n",
      "$ medhiperf          <i64> 0, 1, 1, 1, 1, 1, 0, 1, 0, 1\n",
      "$ neg_price          <i64> -46763, -57209, -87960, -33768, -90336, -57099, -45534, -21825, -34031, -8639\n",
      "$ neg_operating_cost <f64> -47.43, -27.43, -32.41, -4.89, -30.19, -27.16, -10.72, -15.53, -60.62, -22.16\n",
      "\n"
     ]
    }
   ],
   "source": [
    "\n",
    "cars_df2.glimpse()"
   ]
  },
  {
   "cell_type": "markdown",
   "id": "1a73bc62",
   "metadata": {},
   "source": [
    "// import\n"
   ]
  },
  {
   "cell_type": "code",
   "execution_count": 8,
   "id": "3ce067ad",
   "metadata": {},
   "outputs": [
    {
     "ename": "ModuleNotFoundError",
     "evalue": "No module named 'lcl'",
     "output_type": "error",
     "traceback": [
      "\u001b[31m---------------------------------------------------------------------------\u001b[39m",
      "\u001b[31mModuleNotFoundError\u001b[39m                       Traceback (most recent call last)",
      "\u001b[36mCell\u001b[39m\u001b[36m \u001b[39m\u001b[32mIn[8]\u001b[39m\u001b[32m, line 1\u001b[39m\n\u001b[32m----> \u001b[39m\u001b[32m1\u001b[39m \u001b[38;5;28;01mfrom\u001b[39;00m\u001b[38;5;250m \u001b[39m\u001b[34;01mlcl\u001b[39;00m\u001b[34;01m.\u001b[39;00m\u001b[34;01mlatent_class_logit\u001b[39;00m\u001b[38;5;250m \u001b[39m\u001b[38;5;28;01mimport\u001b[39;00m LatentClassLogit\n",
      "\u001b[31mModuleNotFoundError\u001b[39m: No module named 'lcl'"
     ]
    }
   ],
   "source": [
    "from lcl.latent_class_logit import LatentClassLogit"
   ]
  },
  {
   "cell_type": "code",
   "execution_count": null,
   "id": "77987af1",
   "metadata": {},
   "outputs": [],
   "source": []
  }
 ],
 "metadata": {
  "kernelspec": {
   "display_name": "base",
   "language": "python",
   "name": "python3"
  },
  "language_info": {
   "codemirror_mode": {
    "name": "ipython",
    "version": 3
   },
   "file_extension": ".py",
   "mimetype": "text/x-python",
   "name": "python",
   "nbconvert_exporter": "python",
   "pygments_lexer": "ipython3",
   "version": "3.12.11"
  }
 },
 "nbformat": 4,
 "nbformat_minor": 5
}
